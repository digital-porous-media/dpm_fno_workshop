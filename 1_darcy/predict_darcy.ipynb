{
  "cells": [
    {
      "cell_type": "markdown",
      "metadata": {
        "id": "view-in-github",
        "colab_type": "text"
      },
      "source": [
        "<a href=\"https://colab.research.google.com/github/digital-porous-media/dpm_fno_workshop/blob/main/1_darcy/predict_darcy.ipynb\" target=\"_parent\"><img src=\"https://colab.research.google.com/assets/colab-badge.svg\" alt=\"Open In Colab\"/></a>"
      ]
    },
    {
      "cell_type": "markdown",
      "id": "8c4b4c89",
      "metadata": {
        "id": "8c4b4c89"
      },
      "source": [
        "# 2D FNO Training Predictions\n",
        "\n",
        "**Authors**: Bernard Chang, Xuesong (Cedar) Ma, and Masa Prodanovic\n",
        "\n",
        "**Last Updated**: Apr. 30, 2025\n",
        "\n",
        "---\n",
        "This notebook demonstrates the inference workflow of a 2D Fourier Neural Operator (FNO) model. The aim of the model is to predict the steady-state pressure field given a spatially-heterogeneous permeability input.\n",
        "\n",
        "**Contents:**\n",
        "- Data loading\n",
        "- FNO model definition and configuration\n",
        "- Evaluation on test data\n",
        "- Visualization of predictions vs. ground truth\n",
        "- Prediction on zero-shot resolution\n",
        "\n",
        "---\n",
        "\n",
        "## Import packages"
      ]
    },
    {
      "cell_type": "code",
      "source": [
        "# Clone Repo and Get Data\n",
        "!git clone https://github.com/digital-porous-media/dpm_fno_workshop.git\n",
        "!cd dpm_fno_workshop/ && ./setup.sh"
      ],
      "metadata": {
        "id": "yxpFYUbahMY0"
      },
      "id": "yxpFYUbahMY0",
      "execution_count": null,
      "outputs": []
    },
    {
      "cell_type": "code",
      "execution_count": null,
      "id": "0527de60",
      "metadata": {
        "id": "0527de60"
      },
      "outputs": [],
      "source": [
        "%cd dpm_fno_workshop/1_darcy\n",
        "# System packages\n",
        "import sys\n",
        "import os\n",
        "sys.path.append('..')\n",
        "import glob\n",
        "from pathlib import Path\n",
        "import warnings\n",
        "warnings.filterwarnings('ignore')\n",
        "\n",
        "# ML packages\n",
        "import lightning as pl\n",
        "from network.FNO2d import FNO2D\n",
        "\n",
        "# Data processing\n",
        "from dataloading import DarcyDataset\n",
        "from torch.utils.data import DataLoader, random_split\n",
        "import numpy as np\n",
        "\n",
        "# Visualization\n",
        "import matplotlib.pyplot as plt\n",
        "from matplotlib import gridspec\n",
        "import ipywidgets as widgets\n",
        "from ipywidgets import interact\n",
        "from IPython.display import display, clear_output\n",
        "\n",
        "# Configuration\n",
        "from omegaconf import OmegaConf\n",
        "cfg = OmegaConf.load(\"config.yaml\")\n",
        "\n",
        "# Set the seed for reproducibility\n",
        "pl.seed_everything(cfg.seed)"
      ]
    },
    {
      "cell_type": "markdown",
      "id": "9deb1741",
      "metadata": {
        "id": "9deb1741"
      },
      "source": [
        "## Load Test Dataset\n",
        "\n",
        "We will first look at the test set we reserved from training. The training image size is $64\\times64$."
      ]
    },
    {
      "cell_type": "code",
      "execution_count": null,
      "id": "bb28a338",
      "metadata": {
        "id": "bb28a338"
      },
      "outputs": [],
      "source": [
        "dataset = DarcyDataset('darcy_data_res.h5', resolution='resolution_64')\n",
        "\n",
        "# Split the training dataset\n",
        "train_size = int(0.7 * len(dataset))  # 70% for training\n",
        "val_size = int(0.15 * len(dataset))   # 15% for validation\n",
        "test_size = len(dataset) - train_size - val_size  # Remaining 15% for testing\n",
        "\n",
        "# Split the dataset into training, validation, and test sets\n",
        "_, _, test_dataset = random_split(dataset, [train_size, val_size, test_size])\n",
        "test_loader = DataLoader(test_dataset, batch_size=1, shuffle=False)"
      ]
    },
    {
      "cell_type": "markdown",
      "id": "4a1c6419",
      "metadata": {
        "id": "4a1c6419"
      },
      "source": [
        "## Load the Trained Model\n",
        "\n",
        "This is a pretrained model that is identical to the one saved from the training script. You can replace this with your own trained model if needed."
      ]
    },
    {
      "cell_type": "code",
      "execution_count": null,
      "id": "39a5c4b2",
      "metadata": {
        "id": "39a5c4b2"
      },
      "outputs": [],
      "source": [
        "# Load the trained model\n",
        "model_dir = f\"../saved_models/darcy/checkpoints\"\n",
        "model_loc = glob.glob(f'{model_dir}/*.ckpt')[0]\n",
        "print(f'Loading {model_loc}')\n",
        "\n",
        "# Instantiate the FNO2D model from the checkpoint\n",
        "model = FNO2D.load_from_checkpoint(model_loc)\n",
        "\n",
        "# Set the model to evaluation mode\n",
        "model.eval()"
      ]
    },
    {
      "cell_type": "markdown",
      "id": "e4a98e81",
      "metadata": {
        "id": "e4a98e81"
      },
      "source": [
        "## Make Test Predictions\n",
        "\n",
        "In the following cells, we make predictions on the test dataset and visualize the predictions. To better visualize the model performance, we also compare the average radial spectral energy between the reference and predicted fields.\n",
        "\n",
        "### Spectral Analysis\n",
        "\n",
        "* Perform 2D FFT on reference & predicted pressure fields at each time step.\n",
        "* Compute the energy spectrum $E(k_x, k_y) = |\\hat{f}(k_x, k_y)|^2$\n",
        "* Compute radial average to get 1D spectrum (for easier comparison)"
      ]
    },
    {
      "cell_type": "code",
      "execution_count": null,
      "id": "9be99a30",
      "metadata": {
        "id": "9be99a30"
      },
      "outputs": [],
      "source": [
        "def compute_energy_spectrum(field):\n",
        "    \"\"\"\n",
        "    Compute the energy spectrum of a 2D field using Fast Fourier Transform (FFT).\n",
        "\n",
        "    This function calculates the energy spectrum by performing a 2D FFT on the input field,\n",
        "    shifting the zero frequency component to the center, and computing the squared magnitude\n",
        "    of the shifted FFT.\n",
        "\n",
        "    Parameters:\n",
        "    field (torch.Tensor): A 2D tensor of shape [H, W] representing the input field.\n",
        "\n",
        "    Returns:\n",
        "    numpy.ndarray: A 2D numpy array of shape [H, W] representing the energy spectrum of the input field.\n",
        "    \"\"\"\n",
        "    fft2 = np.fft.fft2(field)\n",
        "    fft2_shifted = np.fft.fftshift(fft2)\n",
        "    energy = np.abs(fft2_shifted) ** 2\n",
        "    return energy\n",
        "\n",
        "\n",
        "def radial_average(energy):\n",
        "    \"\"\"\n",
        "    Compute the radial average of a 2D energy spectrum.\n",
        "\n",
        "    This function computes the average energy at each radial distance from the center\n",
        "    of a 2D field. It is commonly used to reduce a 2D power or energy spectrum to a\n",
        "    1D profile based on isotropic radial bins.\n",
        "\n",
        "\n",
        "    Parameters:\n",
        "        energy (numpy.ndarray): A 2D tensor of shape [H, W] representing the energy spectrum.\n",
        "\n",
        "    Returns:\n",
        "        numpy.ndarray: A 1D numpy array where each element contains the average energy at the corresponding radial distance from the center.\n",
        "    \"\"\"\n",
        "    H, W = energy.shape\n",
        "    center = (H // 2, W // 2)\n",
        "\n",
        "    Y, X = np.ogrid[:H, :W]\n",
        "    r = np.sqrt((X - center[1])**2 + (Y - center[0])**2).astype(np.int32)\n",
        "\n",
        "    r_max = r.max()\n",
        "    spectrum = np.bincount(r.ravel(), weights=energy.ravel()) / np.bincount(r.ravel())\n",
        "    return spectrum\n",
        "\n",
        "\n",
        "def plot_predictions(prediction):\n",
        "    \"\"\"\n",
        "    Generate visualizations and an animated GIF comparing predicted and ground truth MCF evolution over time.\n",
        "\n",
        "    For each time step, this function plots the:\n",
        "        - Input permeability field\n",
        "        - Reference pressure field\n",
        "        - Predicted pressure field\n",
        "        - Relative error heatmap\n",
        "        - Radial spectral energy comparison\n",
        "\n",
        "    Each time step is assembled them into an animated GIF.\n",
        "\n",
        "    Parameters:\n",
        "        prediction (dict): Output dictionary from lightning's `predict_step` containing:\n",
        "            - \"x\" (torch.Tensor): Input permeability field\n",
        "            - \"y\" (torch.Tensor): Reference pressure field\n",
        "            - \"yhat\" (torch.Tensor): Model prediction\n",
        "\n",
        "    Returns:\n",
        "        None\n",
        "    \"\"\"\n",
        "    x = prediction[\"x\"][0, :, :].squeeze().cpu().numpy()\n",
        "    y_true = prediction[\"y\"][0, :, :].squeeze().cpu().numpy()\n",
        "    y_pred = prediction[\"y_hat\"][0, :, :].squeeze().cpu().numpy()\n",
        "\n",
        "    fig = plt.figure(figsize=(16, 8))\n",
        "    gs = gridspec.GridSpec(2, 4, figure=fig)\n",
        "\n",
        "    # Subplot for Input Permeability\n",
        "    ax0 = fig.add_subplot(gs[0, 0])\n",
        "    ax0.set_title('Input Permeability')\n",
        "    cax0 = ax0.imshow(x, cmap='plasma', vmin=0, vmax=1)\n",
        "    fig.colorbar(cax0, ax=ax0, fraction=0.046, pad=0.04)\n",
        "\n",
        "\n",
        "    # Subplot for True Pressure\n",
        "    ax1 = fig.add_subplot(gs[0, 1])\n",
        "    ax1.set_title('True Pressure')\n",
        "    cax1 = ax1.imshow(y_true, cmap='plasma', vmin=0, vmax=1)\n",
        "    fig.colorbar(cax1, ax=ax1, fraction=0.046, pad=0.04)\n",
        "\n",
        "    # Subplot for Predicted Pressure\n",
        "    ax2 = fig.add_subplot(gs[0, 2])\n",
        "    ax2.set_title('Predicted Pressure')\n",
        "    cax2 = ax2.imshow(y_pred, cmap='plasma', vmin=0, vmax=1)\n",
        "    fig.colorbar(cax2, ax=ax2, fraction=0.046, pad=0.04)\n",
        "\n",
        "    # Subplot for Relative Error\n",
        "    y_rel_err = np.abs(y_true - y_pred) / np.abs(y_true)\n",
        "    y_rel_err[y_rel_err == np.inf] = 0\n",
        "    y_rel_err[y_rel_err == -np.inf] = 0\n",
        "    y_rel_err[y_rel_err == np.nan] = 0\n",
        "\n",
        "    ax3 = fig.add_subplot(gs[0, 3])\n",
        "    ax3.set_title('Relative Error')\n",
        "    cax3 = ax3.imshow(y_rel_err, cmap='plasma', vmin=0, vmax=0.25)\n",
        "    fig.colorbar(cax3, ax=ax3, fraction=0.046, pad=0.04)\n",
        "\n",
        "\n",
        "    # Subplot for Spectral Comparison\n",
        "    ax4 = fig.add_subplot(gs[1, 1:4])\n",
        "    ax4.set_title('Radial Spectral Energy Comparison')\n",
        "    # Compute 2D energy spectrum\n",
        "    true_energy = compute_energy_spectrum(y_true)\n",
        "    pred_energy = compute_energy_spectrum(y_pred)\n",
        "    # Compute radial average of energy spectrum\n",
        "    true_spectrum = radial_average(true_energy)\n",
        "    pred_spectrum = radial_average(pred_energy)\n",
        "\n",
        "    ax4.loglog(true_spectrum, label='Ground Truth')\n",
        "    ax4.loglog(pred_spectrum, label='Prediction')\n",
        "    ax4.set_xlabel('Frequency (radial wavenumber)')\n",
        "    ax4.set_ylabel('Spectral Energy')\n",
        "    ax4.legend()\n",
        "    ax4.grid(True, which='both', ls='--')\n",
        "\n",
        "    # Adjust layout to avoid overlap\n",
        "    plt.tight_layout()\n",
        "\n"
      ]
    },
    {
      "cell_type": "markdown",
      "id": "bd0efd26",
      "metadata": {
        "id": "bd0efd26"
      },
      "source": [
        "The following cell generates the predictions on the test dataset."
      ]
    },
    {
      "cell_type": "code",
      "execution_count": null,
      "id": "898fbc38",
      "metadata": {
        "id": "898fbc38"
      },
      "outputs": [],
      "source": [
        "# Initialize the Lightning trainer\n",
        "trainer = pl.Trainer(logger=False, strategy='auto')\n",
        "\n",
        "# Make predictions on the test dataset using the trained model\n",
        "predictions = trainer.predict(model, dataloaders=test_loader)"
      ]
    },
    {
      "cell_type": "markdown",
      "id": "0a7b7e7a",
      "metadata": {
        "id": "0a7b7e7a"
      },
      "source": [
        "The following cell visualizes the predictions for a specific sample ID. Move the slider to visualize predictions for different samples."
      ]
    },
    {
      "cell_type": "code",
      "execution_count": null,
      "id": "820531e0",
      "metadata": {
        "id": "820531e0"
      },
      "outputs": [],
      "source": [
        "def plot_sample(sample_id):\n",
        "    clear_output(wait=True)\n",
        "\n",
        "    # Plot your figure here\n",
        "    plot_predictions(predictions[sample_id])\n",
        "\n",
        "interact(plot_sample, sample_id=widgets.IntSlider(0, 0, 14));"
      ]
    },
    {
      "cell_type": "markdown",
      "id": "8143f991",
      "metadata": {
        "id": "8143f991"
      },
      "source": [
        "### Zero-Shot Resolution Predictions\n",
        "\n",
        "In this section, we use the trained FNO model to demonstrate zero-shot generalization by predicting Darcy flow solutions at resolutions not seen during training. These test samples preserve the same relative correlation lengths in the input permeability fields but differ in absolute image size."
      ]
    },
    {
      "cell_type": "code",
      "execution_count": null,
      "id": "02bad994",
      "metadata": {
        "id": "02bad994"
      },
      "outputs": [],
      "source": [
        "def predict_resolution(resolution):\n",
        "  # Resolutions: 32, 128, 256, 512\n",
        "  zeroshot_res_dataset = DarcyDataset('darcy_data_res.h5', resolution=f'resolution_{resolution}')\n",
        "\n",
        "  zeroshot_res_loader = DataLoader(zeroshot_res_dataset, batch_size=1, shuffle=False)\n",
        "  global zeroshot_res_predictions\n",
        "  zeroshot_res_predictions = trainer.predict(model, dataloaders=zeroshot_res_loader)\n",
        "\n",
        "interact(\n",
        "    predict_resolution,\n",
        "    resolution=widgets.Dropdown(\n",
        "        options=[32, 128, 256, 512],\n",
        "        value=128,\n",
        "        description='Resolution:',\n",
        "    )\n",
        ");"
      ]
    },
    {
      "cell_type": "code",
      "execution_count": null,
      "id": "22e26329",
      "metadata": {
        "id": "22e26329"
      },
      "outputs": [],
      "source": [
        "def plot_sample(sample_id):\n",
        "    clear_output(wait=True)\n",
        "\n",
        "    plot_predictions(zeroshot_res_predictions[sample_id])\n",
        "\n",
        "plot_sample.__doc__ = None\n",
        "\n",
        "interact(plot_sample, sample_id=widgets.IntSlider(0, 0, 9));"
      ]
    },
    {
      "cell_type": "markdown",
      "id": "936fefff",
      "metadata": {
        "id": "936fefff"
      },
      "source": [
        "### Zero-Shot Field of View Predictions\n",
        "\n",
        "In this section, we evaluate the FNO model’s ability to generalize to larger spatial domains than seen during training — referred to here as zero-shot field of view. While the input permeability fields maintain the same relative correlation lengths, the physical domain size increases."
      ]
    },
    {
      "cell_type": "code",
      "execution_count": null,
      "id": "3c083e21",
      "metadata": {
        "id": "3c083e21"
      },
      "outputs": [],
      "source": [
        "def predict_fov(fov):\n",
        "  # Resolutions: 32, 128, 256, 512\n",
        "  zeroshot_fov_dataset = DarcyDataset('darcy_data_fov.h5', resolution=f'resolution_{fov}')\n",
        "\n",
        "  zeroshot_fov_loader = DataLoader(zeroshot_fov_dataset, batch_size=1, shuffle=False)\n",
        "  global zeroshot_fov_predictions\n",
        "  zeroshot_fov_predictions = trainer.predict(model, dataloaders=zeroshot_fov_loader)\n",
        "\n",
        "interact(\n",
        "    predict_fov,\n",
        "    fov=widgets.Dropdown(\n",
        "        options=[32, 64, 128, 256, 512],\n",
        "        value=128,\n",
        "        description='FoV Size:',\n",
        "    )\n",
        ");"
      ]
    },
    {
      "cell_type": "code",
      "execution_count": null,
      "id": "903f0538",
      "metadata": {
        "id": "903f0538"
      },
      "outputs": [],
      "source": [
        "def plot_sample(sample_id):\n",
        "    clear_output(wait=True)\n",
        "\n",
        "    plot_predictions(zeroshot_fov_predictions[sample_id])\n",
        "\n",
        "interact(plot_sample, sample_id=widgets.IntSlider(0, 0, 9));"
      ]
    },
    {
      "cell_type": "markdown",
      "id": "1d3b4d13",
      "metadata": {
        "id": "1d3b4d13"
      },
      "source": [
        "### ⚠️ Important caveats to zero-shot predictions:\n",
        "\n",
        "FNOs learn to map functions between continuous spaces, and the model is trained using spectral (Fourier) representations rather than strictly grid-based convolution. Because of this:\n",
        "\n",
        " - The learned operator is theoretically independent of the discretization (resolution-invariant)\n",
        "\n",
        "However, there are practical limitations:\n",
        " - The Fourier modes are truncated during training, so the model can only resolve spatial frequencies up to a certain bandwidth. At higher resolutions, it may miss finer-scale details\n",
        " - Cannot accurate generalize sharp or nonlinear features that are not captured in the training resolution.\n",
        " - Aliasing and interpolation artifacts may emerge when switching resolutions.\n",
        "\n",
        "There is no theoretical expectation that FNO models can generalize to zero-shot fields of view.\n",
        " - Models implicitly learn from the correlation structure and scale of the training data.\n",
        " - Generalization breaks down if the underlying structure changes (e.g., effective correlation length gets smaller)."
      ]
    }
  ],
  "metadata": {
    "kernelspec": {
      "display_name": "Python 3",
      "name": "python3"
    },
    "language_info": {
      "codemirror_mode": {
        "name": "ipython",
        "version": 3
      },
      "file_extension": ".py",
      "mimetype": "text/x-python",
      "name": "python",
      "nbconvert_exporter": "python",
      "pygments_lexer": "ipython3",
      "version": "3.11.8"
    },
    "colab": {
      "provenance": [],
      "gpuType": "T4",
      "include_colab_link": true
    },
    "accelerator": "GPU"
  },
  "nbformat": 4,
  "nbformat_minor": 5
}