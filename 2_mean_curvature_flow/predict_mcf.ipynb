{
  "cells": [
    {
      "cell_type": "markdown",
      "metadata": {
        "id": "view-in-github",
        "colab_type": "text"
      },
      "source": [
        "<a href=\"https://colab.research.google.com/github/digital-porous-media/dpm_fno_workshop/blob/main/2_mean_curvature_flow/predict_mcf.ipynb\" target=\"_parent\"><img src=\"https://colab.research.google.com/assets/colab-badge.svg\" alt=\"Open In Colab\"/></a>"
      ]
    },
    {
      "cell_type": "markdown",
      "id": "8c4b4c89",
      "metadata": {
        "id": "8c4b4c89"
      },
      "source": [
        "# 3D (2D + t) FNO Training Predictions\n",
        "\n",
        "**Authors**: Xuesong (Cedar) Ma, Bernard Chang, and Masa Prodanovic\n",
        "\n",
        "**Last Updated**: Apr. 30, 2025\n",
        "\n",
        "---\n",
        "This notebook demonstrates the inference workflow of a 3D Fourier Neural Operator (FNO) model, where the input is structured as 2D spatial data over time (2D + t).\n",
        "\n",
        "**Contents:**\n",
        "- Data loading\n",
        "- FNO model definition and configuration\n",
        "- Evaluation on test data\n",
        "- Visualization of predictions vs. ground truth\n",
        "\n",
        "---\n",
        "\n",
        "## Import packages"
      ]
    },
    {
      "cell_type": "code",
      "source": [
        "# Clone Repo and Get Data\n",
        "!git clone https://github.com/digital-porous-media/dpm_fno_workshop.git\n",
        "!cd dpm_fno_workshop/ && ./setup.sh"
      ],
      "metadata": {
        "id": "VYRhPOu7s91g"
      },
      "id": "VYRhPOu7s91g",
      "execution_count": null,
      "outputs": []
    },
    {
      "cell_type": "code",
      "execution_count": null,
      "id": "0527de60",
      "metadata": {
        "id": "0527de60"
      },
      "outputs": [],
      "source": [
        "%cd dpm_fno_workshop/2_mean_curvature_flow\n",
        "\n",
        "# System packages\n",
        "import os\n",
        "import glob\n",
        "import sys\n",
        "sys.path.append('..')\n",
        "\n",
        "# ML packages\n",
        "import lightning as pl\n",
        "from network.FNO3d import FNO3D\n",
        "\n",
        "# Data processing\n",
        "from dataloading import mcf_dataloader, split_indices\n",
        "import numpy as np\n",
        "\n",
        "# Visualization\n",
        "import matplotlib.pyplot as plt\n",
        "from matplotlib import gridspec\n",
        "import imageio.v2 as imageio\n",
        "import ipywidgets as widgets\n",
        "from ipywidgets import interact\n",
        "from IPython.display import Image, display, clear_output\n",
        "from tqdm.notebook import tqdm\n",
        "\n",
        "# Configuration\n",
        "from omegaconf import OmegaConf\n",
        "cfg = OmegaConf.load(\"config.yaml\")\n",
        "\n",
        "# Set the seed for reproducibility\n",
        "pl.seed_everything(cfg.seed)"
      ]
    },
    {
      "cell_type": "markdown",
      "id": "9deb1741",
      "metadata": {
        "id": "9deb1741"
      },
      "source": [
        "## Load Test Dataset\n",
        "\n",
        "Here, we load the subset of the data reserved for testing. Inputs contain 8 initial timesteps of a mean curvature flow simulation and outputs are the next 16 time steps."
      ]
    },
    {
      "cell_type": "code",
      "execution_count": null,
      "id": "bb28a338",
      "metadata": {
        "id": "bb28a338"
      },
      "outputs": [],
      "source": [
        "n_samples = 160\n",
        "split = [0.6, 0.2, 0.2]\n",
        "image_ids = np.random.randint(low=0, high=159, size=(n_samples,))\n",
        "_, _, test_ids = split_indices(image_ids, split, seed=cfg.seed)\n",
        "_, _, test_loader = mcf_dataloader(image_ids,\n",
        "                                   data_path=\"mc_flow_data.h5\",\n",
        "                                   t_in=cfg.T_in,\n",
        "                                   t_out=cfg.T_out,\n",
        "                                   seed=cfg.seed,\n",
        "                                   split=split,\n",
        "                                   num_workers=2,\n",
        "                                   pin_memory=True)"
      ]
    },
    {
      "cell_type": "markdown",
      "id": "4a1c6419",
      "metadata": {
        "id": "4a1c6419"
      },
      "source": [
        "## Load the trained model\n",
        "\n",
        "This is a pretrained model that is identical to the one saved from the training script. You can replace this with your own trained model if needed."
      ]
    },
    {
      "cell_type": "code",
      "execution_count": null,
      "id": "39a5c4b2",
      "metadata": {
        "id": "39a5c4b2"
      },
      "outputs": [],
      "source": [
        "# Load the trained model\n",
        "model_dir = f\"../saved_models/mcf/checkpoints\"\n",
        "model_loc = glob.glob(f'{model_dir}/*val*.ckpt')[0]\n",
        "print(f'Loading {model_loc}')\n",
        "\n",
        "# Instantiate an FNO3D model from the checkpoint\n",
        "model = FNO3D.load_from_checkpoint(model_loc)\n",
        "\n",
        "# Set the model to evaluation mode\n",
        "model.eval()"
      ]
    },
    {
      "cell_type": "markdown",
      "id": "e4a98e81",
      "metadata": {
        "id": "e4a98e81"
      },
      "source": [
        "## Make Test Predictions\n",
        "\n",
        "In the following cells, we make predictions on the test dataset and visualize the predictions. To better visualize the model performance, we compute the average radial spectral energy in addition to the predicted time series evolution.\n",
        "\n",
        "### Spectral Analysis\n",
        "\n",
        "* Perform 2D FFT on reference & predicted pressure fields at each time step.\n",
        "* Compute the energy spectrum $E(k_x, k_y) = |\\hat{f}(k_x, k_y)|^2$\n",
        "* Compute radial average to get 1D spectrum (for easier comparison)"
      ]
    },
    {
      "cell_type": "code",
      "execution_count": null,
      "id": "9be99a30",
      "metadata": {
        "id": "9be99a30"
      },
      "outputs": [],
      "source": [
        "def compute_energy_spectrum(field):\n",
        "    \"\"\"\n",
        "    Compute the energy spectrum of a 2D field using Fast Fourier Transform (FFT).\n",
        "\n",
        "    This function calculates the energy spectrum by performing a 2D FFT on the input field,\n",
        "    shifting the zero frequency component to the center, and computing the squared magnitude\n",
        "    of the shifted FFT.\n",
        "\n",
        "    Parameters:\n",
        "        field (torch.Tensor): A 2D tensor of shape [H, W] representing the input field.\n",
        "\n",
        "    Returns:\n",
        "        numpy.ndarray: A 2D numpy array of shape [H, W] representing the energy spectrum of the input field.\n",
        "    \"\"\"\n",
        "    fft2 = np.fft.fft2(field, axes=(0, 1))\n",
        "    fft2_shifted = np.fft.fftshift(fft2)\n",
        "    energy = np.abs(fft2_shifted) ** 2\n",
        "    return energy\n",
        "\n",
        "\n",
        "def radial_average(energy):\n",
        "    \"\"\"\n",
        "    Compute the radial average of a 2D energy spectrum.\n",
        "\n",
        "    This function computes the average energy at each radial distance from the center\n",
        "    of a 2D field. It is commonly used to reduce a 2D power or energy spectrum to a\n",
        "    1D profile based on isotropic radial bins.\n",
        "\n",
        "\n",
        "    Parameters:\n",
        "        energy (numpy.ndarray): A 2D tensor of shape [H, W] representing the energy spectrum.\n",
        "\n",
        "    Returns:\n",
        "        numpy.ndarray: A 1D numpy array where each element contains the average energy at the corresponding radial distance from the center.\n",
        "    \"\"\"\n",
        "    H, W = energy.shape\n",
        "    center = (H // 2, W // 2)\n",
        "\n",
        "    Y, X = np.ogrid[:H, :W]\n",
        "    r = np.sqrt((X - center[1])**2 + (Y - center[0])**2).astype(np.int32)\n",
        "\n",
        "    r_max = r.max()\n",
        "    spectrum = np.bincount(r.ravel(), weights=energy.ravel()) / np.bincount(r.ravel())\n",
        "    return spectrum[:r_max]\n",
        "\n",
        "\n",
        "def plot_predictions(prediction, T_in):\n",
        "    y_true = prediction[\"y\"][0, :, :, :].squeeze().cpu().numpy()\n",
        "    y_pred = prediction[\"yhat\"][0, :, :, :].squeeze().cpu().numpy()\n",
        "\n",
        "    os.makedirs(\"frames\", exist_ok=True)\n",
        "    filenames = []\n",
        "\n",
        "    # Manually set axis limits\n",
        "    contour_levels = 0  # Adjust this as needed for your data range\n",
        "\n",
        "    for j in tqdm(range(int(cfg.T_out))):\n",
        "        plt.close('all')\n",
        "        fig = plt.figure(figsize=(12, 8))\n",
        "        gs = gridspec.GridSpec(2, 3, figure=fig)\n",
        "\n",
        "        # Subplot for True MCF\n",
        "        ax0 = fig.add_subplot(gs[0, 0])\n",
        "        ax0.set_title('Ground Truth')\n",
        "        c = ax0.contour(y_true[..., j], levels=contour_levels, colors='b')\n",
        "        ax0.set_aspect('equal')\n",
        "        ax0.set_xlim([0, y_true.shape[1]])  # Fix the axis limits\n",
        "        ax0.set_ylim([0, y_true.shape[0]])  # Fix the axis limits\n",
        "        ax0.grid('off')\n",
        "\n",
        "        # Subplot for Predicted MCF\n",
        "        ax1 = fig.add_subplot(gs[0, 1])\n",
        "        ax1.set_title('Predicted')\n",
        "        c = ax1.contour(y_pred[..., j], levels=contour_levels, colors='b')\n",
        "        ax1.set_aspect('equal')\n",
        "        ax1.set_xlim([0, y_pred.shape[1]])  # Fix the axis limits\n",
        "        ax1.set_ylim([0, y_pred.shape[0]])  # Fix the axis limits\n",
        "        ax1.grid('off')\n",
        "\n",
        "        # Subplot for Relative Error\n",
        "        y_rel_err = np.abs(y_true[..., j] - y_pred[..., j]) / np.abs(y_true[..., j])\n",
        "        y_rel_err[y_rel_err == np.inf] = 0\n",
        "        y_rel_err[y_rel_err == -np.inf] = 0\n",
        "        y_rel_err[y_rel_err == np.nan] = 0\n",
        "\n",
        "        ax2 = fig.add_subplot(gs[0, 2])\n",
        "        ax2.set_title('Relative Error')\n",
        "        cax2 = ax2.imshow(y_rel_err, cmap='plasma', vmin=0, vmax=0.15)\n",
        "        ax2.invert_yaxis()\n",
        "        ax2.set_xlim([0, y_rel_err.shape[1]])  # Fix the axis limits\n",
        "        ax2.set_ylim([0, y_rel_err.shape[0]])  # Fix the axis limits\n",
        "        ax2.grid('off')\n",
        "\n",
        "        fig.colorbar(cax2, ax=ax2, fraction=0.046, pad=0.04)\n",
        "\n",
        "        # Subplot for Spectral Comparison\n",
        "        ax3 = fig.add_subplot(gs[1, 1:3])\n",
        "        ax3.set_title('Radial Spectral Energy Comparison')\n",
        "        true_energy = compute_energy_spectrum(y_true[..., j])\n",
        "        pred_energy = compute_energy_spectrum(y_pred[..., j])\n",
        "        true_spectrum = radial_average(true_energy)\n",
        "        pred_spectrum = radial_average(pred_energy)\n",
        "\n",
        "        ax3.loglog(true_spectrum, label='Ground Truth')\n",
        "        ax3.loglog(pred_spectrum, label='Prediction')\n",
        "        ax3.set_xlabel('Frequency (radial wavenumber)')\n",
        "        ax3.set_ylabel('Spectral Energy')\n",
        "        ax3.legend()\n",
        "        ax3.grid(True, which='both', ls='--')\n",
        "\n",
        "        fig.suptitle(f\"Time step {T_in + j}\")\n",
        "\n",
        "        # Adjust layout to avoid overlap\n",
        "        plt.subplots_adjust(left=0.1, right=0.9, top=0.9, bottom=0.1)\n",
        "        # plt.tight_layout()\n",
        "\n",
        "        fname = f\"frames/frame_{T_in + j:03d}.png\"\n",
        "        plt.savefig(fname, bbox_inches='tight')\n",
        "        filenames.append(fname)\n",
        "        plt.close()\n",
        "\n",
        "    # --- Build the GIF ---\n",
        "    gif_path = \"mean_curvature_flow.gif\"\n",
        "    images = [imageio.imread(fname) for fname in filenames]\n",
        "    imageio.mimsave(gif_path, images, fps=5, loop=0)\n",
        "\n",
        "    # Optional: clean up frame files\n",
        "    for f in filenames:\n",
        "        os.remove(f)\n",
        "\n",
        "    # --- Display the GIF in Jupyter ---\n",
        "    display(Image(filename=gif_path))\n"
      ]
    },
    {
      "cell_type": "markdown",
      "id": "4d60e3b8",
      "metadata": {
        "id": "4d60e3b8"
      },
      "source": [
        "The following cell generates the predictions on the test dataset."
      ]
    },
    {
      "cell_type": "code",
      "execution_count": null,
      "id": "898fbc38",
      "metadata": {
        "id": "898fbc38"
      },
      "outputs": [],
      "source": [
        "# Initialize the Lightning trainer\n",
        "trainer = pl.Trainer(logger=False,\n",
        "                     enable_checkpointing=False)\n",
        "# Make predictions on the test dataset using the trained model\n",
        "predictions = trainer.predict(model, dataloaders=test_loader)\n"
      ]
    },
    {
      "cell_type": "markdown",
      "id": "0d9d38b2",
      "metadata": {
        "id": "0d9d38b2"
      },
      "source": [
        "The following cell visualizes the predictions for a specific sample ID. Move the slider to visualize predictions for different samples."
      ]
    },
    {
      "cell_type": "code",
      "execution_count": null,
      "id": "820531e0",
      "metadata": {
        "id": "820531e0"
      },
      "outputs": [],
      "source": [
        "sample_slider = widgets.IntSlider(value=3, min=0, max=31, description=\"Sample ID:\")\n",
        "run_button = widgets.Button(description=\"Run\", button_style='success')\n",
        "\n",
        "output = widgets.Output()\n",
        "\n",
        "def on_run_button_clicked(b):\n",
        "    with output:\n",
        "        clear_output(wait=True)  # Clear previous output\n",
        "        plot_predictions(predictions[sample_slider.value], cfg.T_in)\n",
        "\n",
        "run_button.on_click(on_run_button_clicked)\n",
        "\n",
        "# Display the widgets and output area\n",
        "display(widgets.HBox([sample_slider, run_button]), output)\n"
      ]
    }
  ],
  "metadata": {
    "kernelspec": {
      "display_name": "Python 3",
      "name": "python3"
    },
    "language_info": {
      "codemirror_mode": {
        "name": "ipython",
        "version": 3
      },
      "file_extension": ".py",
      "mimetype": "text/x-python",
      "name": "python",
      "nbconvert_exporter": "python",
      "pygments_lexer": "ipython3",
      "version": "3.11.8"
    },
    "colab": {
      "provenance": [],
      "gpuType": "T4",
      "include_colab_link": true
    },
    "accelerator": "GPU"
  },
  "nbformat": 4,
  "nbformat_minor": 5
}